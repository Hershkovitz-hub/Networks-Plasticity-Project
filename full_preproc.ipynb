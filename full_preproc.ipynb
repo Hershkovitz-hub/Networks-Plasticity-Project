{
 "cells": [
  {
   "cell_type": "code",
   "execution_count": null,
   "metadata": {
    "collapsed": true
   },
   "outputs": [],
   "source": []
  },
  {
   "cell_type": "code",
   "execution_count": 1,
   "outputs": [
    {
     "name": "stdout",
     "text": [
      "200226-11:29:52,863 nipype.utils INFO:\n",
      "\t Running nipype version 1.4.1 (latest: 1.4.2)\n",
      "Analyzing sub-01...\n",
      "Generated temporary directory: /home/gal/Networks_Dynamics/Derivatives/Mrtrix_prep/sub-01\n",
      "Converting files into .mif format...\n",
      "mrconvert -strides +1,+2,+3 /home/gal/Networks_Dynamics/Derivatives/Mrtrix_prep/sub-01/sub-01_T1w.mif /home/gal/Networks_Dynamics/Derivatives/Mrtrix_prep/sub-01/T1.nii\n",
      "200226-11:29:53,534 nipype.interface INFO:\n",
      "mrconvert: [100%] copying from \"/home/gal/..._prep/sub-01/sub-01_T1w.mif\" to \"/home/gal/...s/Mrtrix_prep/sub-01/T1.nii\"\u001b[0K\u001b[0K\n",
      "fsl_anat -i /home/gal/Networks_Dynamics/Derivatives/Mrtrix_prep/sub-01/T1.nii --noseg --nosubcortseg\n",
      "Analyzing sub-09...\n",
      "Generated temporary directory: /home/gal/Networks_Dynamics/Derivatives/Mrtrix_prep/sub-09\n",
      "Converting files into .mif format...\n",
      "mrconvert -strides +1,+2,+3 /home/gal/Networks_Dynamics/Derivatives/Mrtrix_prep/sub-09/sub-09_T1w.mif /home/gal/Networks_Dynamics/Derivatives/Mrtrix_prep/sub-09/T1.nii\n",
      "200226-11:29:53,682 nipype.interface INFO:\n",
      "mrconvert: [100%] copying from \"/home/gal/..._prep/sub-09/sub-09_T1w.mif\" to \"/home/gal/...s/Mrtrix_prep/sub-09/T1.nii\"\u001b[0K\u001b[0K\n",
      "fsl_anat -i /home/gal/Networks_Dynamics/Derivatives/Mrtrix_prep/sub-09/T1.nii --noseg --nosubcortseg\n",
      "Analyzing sub-12...\n",
      "Generated temporary directory: /home/gal/Networks_Dynamics/Derivatives/Mrtrix_prep/sub-12\n",
      "Converting files into .mif format...\n",
      "mrconvert -strides +1,+2,+3 /home/gal/Networks_Dynamics/Derivatives/Mrtrix_prep/sub-12/sub-12_T1w.mif /home/gal/Networks_Dynamics/Derivatives/Mrtrix_prep/sub-12/T1.nii\n",
      "200226-11:29:53,828 nipype.interface INFO:\n",
      "mrconvert: [100%] copying from \"/home/gal/..._prep/sub-12/sub-12_T1w.mif\" to \"/home/gal/...s/Mrtrix_prep/sub-12/T1.nii\"\u001b[0K\u001b[0K\n",
      "fsl_anat -i /home/gal/Networks_Dynamics/Derivatives/Mrtrix_prep/sub-12/T1.nii --noseg --nosubcortseg\n",
      "Moved sub-01_acq-PA_dwi.mif to dwi/sub-01_acq-PA_dwi.nii\n",
      "Moved sub-01_acq-AP_dwi_denoised.mif to dwi/sub-01_acq-AP_dwi_denoised.nii\n",
      "Moved FOD_wm.mif to tractogram/FOD_wm.nii\n",
      "Moved response_wm.txt to tractogram/response_wm.txt\n",
      "Moved sub-01_dwi_pseudoT1.mif to dwi/sub-01_dwi_pseudoT1.nii\n",
      "Moved b0s.mif to dwi/b0s.nii\n",
      "Moved FOD_gm.mif to tractogram/FOD_gm.nii\n",
      "Moved rigid_pseudobzero_to_bzero.txt to dwi/rigid_pseudobzero_to_bzero.txt\n",
      "Moved rigid_T1_to_dwi.txt to dwi/rigid_T1_to_dwi.txt\n",
      "Moved AP_b0.mif to dwi/AP_b0.nii\n",
      "Moved sub-01_acq-AP_dwi.mif to dwi/sub-01_acq-AP_dwi.nii\n",
      "Moved sub-01_dwi_meanbzero.mif to dwi/sub-01_dwi_meanbzero.nii\n",
      "Moved tissues.mif to dwi/tissues.nii\n",
      "Moved sub-01_T1w.mif to anat/sub-01_T1w.nii\n",
      "Moved dti.mif to tractogram/dti.nii\n",
      "Moved fa.mif to tractogram/fa.nii\n",
      "Moved tractogram.tck to tractogram/tractogram.tck\n",
      "Moved sub-01_acq-AP_dwi_brain_mask_dilated.mif to dwi/sub-01_acq-AP_dwi_brain_mask_dilated.nii\n",
      "Moved dwi1_preprocessed.mif to dwi/dwi1_preprocessed.nii\n",
      "Moved FOD_csf.mif to tractogram/FOD_csf.nii\n",
      "Moved sub-01_acq-AP_dwi_noise.mif to dwi/sub-01_acq-AP_dwi_noise.nii\n",
      "Moved tractogram.trk to tractogram/tractogram.trk\n",
      "Moved response_gm.txt to tractogram/response_gm.txt\n",
      "Moved sub-01_acq-AP_dwi_denoised_degibbs.mif to dwi/sub-01_acq-AP_dwi_denoised_degibbs.nii\n",
      "Moved sub-01_dwi.mif to dwi/sub-01_dwi.nii\n",
      "Moved T1_mask_registered.mif to anat/T1_mask_registered.nii\n",
      "Moved response_csf.txt to tractogram/response_csf.txt\n",
      "Moved 5TT.mif to anat/5TT.nii\n",
      "Moved T1_registered.mif to anat/T1_registered.nii\n",
      "Moved sub-01_acq-AP_dwi_brain_mask.mif to dwi/sub-01_acq-AP_dwi_brain_mask.nii\n",
      "Moved T1_pseudobzero.mif to dwi/T1_pseudobzero.nii\n",
      "Moved vis.mif to anat/vis.nii\n",
      "Estimating Fibre Orientation Distributions\n",
      "dwi2fod -mask /home/gal/Networks_Dynamics/Derivatives/Mrtrix_prep/sub-09/sub-09_acq-AP_dwi_brain_mask.mif -lmax 10,0,0 msmt_csd /home/gal/Networks_Dynamics/Derivatives/Mrtrix_prep/sub-09/sub-09_dwi.mif /home/gal/Networks_Dynamics/Derivatives/Mrtrix_prep/sub-09/response_wm.txt /home/gal/Networks_Dynamics/Derivatives/Mrtrix_prep/sub-09/FOD_wm.mif /home/gal/Networks_Dynamics/Derivatives/Mrtrix_prep/sub-09/response_gm.txt /home/gal/Networks_Dynamics/Derivatives/Mrtrix_prep/sub-09/FOD_gm.mif /home/gal/Networks_Dynamics/Derivatives/Mrtrix_prep/sub-09/response_csf.txt /home/gal/Networks_Dynamics/Derivatives/Mrtrix_prep/sub-09/FOD_csf.mif\n",
      "200226-12:18:11,466 nipype.interface INFO:\n",
      "dwi2fod: [100%] performing multi-shell, multi-tissue CSD\u001b[0K\u001b[0K\n",
      "mrconvert /home/gal/Networks_Dynamics/Derivatives/Mrtrix_prep/sub-09/FOD_wm.mif - -coord 3 0 | mrcat /home/gal/Networks_Dynamics/Derivatives/Mrtrix_prep/sub-09/FOD_csf.mif /home/gal/Networks_Dynamics/Derivatives/Mrtrix_prep/sub-09/FOD_gm.mif - /home/gal/Networks_Dynamics/Derivatives/Mrtrix_prep/sub-09/tissues.mif -axis 3\n",
      "Generating five-tissue-type (5TT) image for Anatomically-Constrained Tractography (ACT)\n",
      "5ttgen fsl /home/gal/Networks_Dynamics/Derivatives/Mrtrix_prep/sub-09/T1_registered.mif /home/gal/Networks_Dynamics/Derivatives/Mrtrix_prep/sub-09/5TT.mif -mask /home/gal/Networks_Dynamics/Derivatives/Mrtrix_prep/sub-09/T1_mask_registered.mif\n",
      "Performing whole-brain fibre-tracking\n"
     ],
     "output_type": "stream"
    },
    {
     "traceback": [
      "\u001b[0;31m---------------------------------------------------------------------------\u001b[0m",
      "\u001b[0;31mTraitError\u001b[0m                                Traceback (most recent call last)",
      "\u001b[0;32m<ipython-input-1-b2743b9c80da>\u001b[0m in \u001b[0;36m<module>\u001b[0;34m\u001b[0m\n\u001b[1;32m      7\u001b[0m \u001b[0;34m\u001b[0m\u001b[0m\n\u001b[1;32m      8\u001b[0m \u001b[0mtracts\u001b[0m \u001b[0;34m=\u001b[0m \u001b[0mTracts_processing\u001b[0m\u001b[0;34m.\u001b[0m\u001b[0mGenerate_Tracts_with_mrtrix3\u001b[0m\u001b[0;34m(\u001b[0m\u001b[0mmother_dir\u001b[0m\u001b[0;34m=\u001b[0m\u001b[0;34m\"/home/gal/Networks_Dynamics\"\u001b[0m\u001b[0;34m)\u001b[0m\u001b[0;34m\u001b[0m\u001b[0;34m\u001b[0m\u001b[0m\n\u001b[0;32m----> 9\u001b[0;31m \u001b[0mtracts\u001b[0m\u001b[0;34m.\u001b[0m\u001b[0mrun\u001b[0m\u001b[0;34m(\u001b[0m\u001b[0;34m)\u001b[0m\u001b[0;34m\u001b[0m\u001b[0;34m\u001b[0m\u001b[0m\n\u001b[0m\u001b[1;32m     10\u001b[0m \u001b[0;34m\u001b[0m\u001b[0m\n",
      "\u001b[0;32m~/PycharmProjects/Networks_plasticity/Networks_plasticity/Tracts_processing.py\u001b[0m in \u001b[0;36mrun\u001b[0;34m(self)\u001b[0m\n\u001b[1;32m    316\u001b[0m                 \u001b[0mT1_mask\u001b[0m\u001b[0;34m,\u001b[0m\u001b[0;34m\u001b[0m\u001b[0;34m\u001b[0m\u001b[0m\n\u001b[1;32m    317\u001b[0m                 \u001b[0mdwi_mask\u001b[0m\u001b[0;34m,\u001b[0m\u001b[0;34m\u001b[0m\u001b[0;34m\u001b[0m\u001b[0m\n\u001b[0;32m--> 318\u001b[0;31m             )\n\u001b[0m\u001b[1;32m    319\u001b[0m             \u001b[0mvis_5tt\u001b[0m\u001b[0;34m,\u001b[0m \u001b[0mseg_5tt\u001b[0m \u001b[0;34m=\u001b[0m \u001b[0mself\u001b[0m\u001b[0;34m.\u001b[0m\u001b[0mgen_5tt\u001b[0m\u001b[0;34m(\u001b[0m\u001b[0mt1_registered\u001b[0m\u001b[0;34m,\u001b[0m \u001b[0mt1_mask_registered\u001b[0m\u001b[0;34m)\u001b[0m\u001b[0;34m\u001b[0m\u001b[0;34m\u001b[0m\u001b[0m\n\u001b[1;32m    320\u001b[0m             \u001b[0mTracts_tck\u001b[0m \u001b[0;34m=\u001b[0m \u001b[0mself\u001b[0m\u001b[0;34m.\u001b[0m\u001b[0mcalc_tracts\u001b[0m\u001b[0;34m(\u001b[0m\u001b[0mfod_wm\u001b[0m\u001b[0;34m,\u001b[0m \u001b[0mseg_5tt\u001b[0m\u001b[0;34m)\u001b[0m\u001b[0;34m\u001b[0m\u001b[0;34m\u001b[0m\u001b[0m\n",
      "\u001b[0;32m~/PycharmProjects/Networks_plasticity/Networks_plasticity/Tracts_processing.py\u001b[0m in \u001b[0;36mcalc_tracts\u001b[0;34m(self, fod_wm, seg_5tt)\u001b[0m\n\u001b[1;32m    241\u001b[0m     \u001b[0;32mdef\u001b[0m \u001b[0mcalc_tracts\u001b[0m\u001b[0;34m(\u001b[0m\u001b[0mself\u001b[0m\u001b[0;34m,\u001b[0m \u001b[0mfod_wm\u001b[0m\u001b[0;34m:\u001b[0m \u001b[0mstr\u001b[0m\u001b[0;34m,\u001b[0m \u001b[0mseg_5tt\u001b[0m\u001b[0;34m:\u001b[0m \u001b[0mstr\u001b[0m\u001b[0;34m)\u001b[0m\u001b[0;34m:\u001b[0m\u001b[0;34m\u001b[0m\u001b[0;34m\u001b[0m\u001b[0m\n\u001b[1;32m    242\u001b[0m         \u001b[0mTracts\u001b[0m \u001b[0;34m=\u001b[0m \u001b[0;34mf\"{os.path.dirname(fod_wm)}/tractogram.tck\"\u001b[0m\u001b[0;34m\u001b[0m\u001b[0;34m\u001b[0m\u001b[0m\n\u001b[0;32m--> 243\u001b[0;31m         \u001b[0;32mif\u001b[0m \u001b[0;32mnot\u001b[0m \u001b[0mos\u001b[0m\u001b[0;34m.\u001b[0m\u001b[0mpath\u001b[0m\u001b[0;34m.\u001b[0m\u001b[0misfile\u001b[0m\u001b[0;34m(\u001b[0m\u001b[0mTracts\u001b[0m\u001b[0;34m)\u001b[0m\u001b[0;34m:\u001b[0m\u001b[0;34m\u001b[0m\u001b[0;34m\u001b[0m\u001b[0m\n\u001b[0m\u001b[1;32m    244\u001b[0m             \u001b[0mprint\u001b[0m\u001b[0;34m(\u001b[0m\u001b[0;34m\"Performing whole-brain fibre-tracking\"\u001b[0m\u001b[0;34m)\u001b[0m\u001b[0;34m\u001b[0m\u001b[0;34m\u001b[0m\u001b[0m\n\u001b[1;32m    245\u001b[0m             \u001b[0mTracts\u001b[0m \u001b[0;34m=\u001b[0m \u001b[0mmrt_methods\u001b[0m\u001b[0;34m.\u001b[0m\u001b[0mgenerate_tracks\u001b[0m\u001b[0;34m(\u001b[0m\u001b[0mfod_wm\u001b[0m\u001b[0;34m,\u001b[0m \u001b[0mseg_5tt\u001b[0m\u001b[0;34m)\u001b[0m\u001b[0;34m\u001b[0m\u001b[0;34m\u001b[0m\u001b[0m\n",
      "\u001b[0;32m~/PycharmProjects/Networks_plasticity/Networks_plasticity/Mrtrix3_methods.py\u001b[0m in \u001b[0;36mgenerate_tracks\u001b[0;34m(fod_wm, seg_5tt)\u001b[0m\n\u001b[1;32m    278\u001b[0m     \u001b[0mtk\u001b[0m\u001b[0;34m.\u001b[0m\u001b[0minputs\u001b[0m\u001b[0;34m.\u001b[0m\u001b[0min_file\u001b[0m \u001b[0;34m=\u001b[0m \u001b[0mfod_wm\u001b[0m\u001b[0;34m\u001b[0m\u001b[0;34m\u001b[0m\u001b[0m\n\u001b[1;32m    279\u001b[0m     \u001b[0mtk\u001b[0m\u001b[0;34m.\u001b[0m\u001b[0minputs\u001b[0m\u001b[0;34m.\u001b[0m\u001b[0mout_file\u001b[0m \u001b[0;34m=\u001b[0m \u001b[0;34mf\"{working_dir}/tractogram.tck\"\u001b[0m\u001b[0;34m\u001b[0m\u001b[0;34m\u001b[0m\u001b[0m\n\u001b[0;32m--> 280\u001b[0;31m     \u001b[0mtk\u001b[0m\u001b[0;34m.\u001b[0m\u001b[0minputs\u001b[0m\u001b[0;34m.\u001b[0m\u001b[0mact_file\u001b[0m \u001b[0;34m=\u001b[0m \u001b[0mseg_5tt\u001b[0m\u001b[0;34m\u001b[0m\u001b[0;34m\u001b[0m\u001b[0m\n\u001b[0m\u001b[1;32m    281\u001b[0m     \u001b[0mtk\u001b[0m\u001b[0;34m.\u001b[0m\u001b[0minputs\u001b[0m\u001b[0;34m.\u001b[0m\u001b[0mbacktrack\u001b[0m \u001b[0;34m=\u001b[0m \u001b[0;32mTrue\u001b[0m\u001b[0;34m\u001b[0m\u001b[0;34m\u001b[0m\u001b[0m\n\u001b[1;32m    282\u001b[0m     \u001b[0mtk\u001b[0m\u001b[0;34m.\u001b[0m\u001b[0minputs\u001b[0m\u001b[0;34m.\u001b[0m\u001b[0malgorithm\u001b[0m \u001b[0;34m=\u001b[0m \u001b[0;34m\"iFOD2\"\u001b[0m\u001b[0;34m\u001b[0m\u001b[0;34m\u001b[0m\u001b[0m\n",
      "\u001b[0;32m~/PycharmProjects/Networks_plasticity/venv/lib/python3.7/site-packages/nipype/interfaces/base/traits_extension.py\u001b[0m in \u001b[0;36mvalidate\u001b[0;34m(self, objekt, name, value, return_pathlike)\u001b[0m\n\u001b[1;32m    322\u001b[0m     \u001b[0;32mdef\u001b[0m \u001b[0mvalidate\u001b[0m\u001b[0;34m(\u001b[0m\u001b[0mself\u001b[0m\u001b[0;34m,\u001b[0m \u001b[0mobjekt\u001b[0m\u001b[0;34m,\u001b[0m \u001b[0mname\u001b[0m\u001b[0;34m,\u001b[0m \u001b[0mvalue\u001b[0m\u001b[0;34m,\u001b[0m \u001b[0mreturn_pathlike\u001b[0m\u001b[0;34m=\u001b[0m\u001b[0;32mFalse\u001b[0m\u001b[0;34m)\u001b[0m\u001b[0;34m:\u001b[0m\u001b[0;34m\u001b[0m\u001b[0;34m\u001b[0m\u001b[0m\n\u001b[1;32m    323\u001b[0m         \u001b[0;34m\"\"\"Validate a value change.\"\"\"\u001b[0m\u001b[0;34m\u001b[0m\u001b[0;34m\u001b[0m\u001b[0m\n\u001b[0;32m--> 324\u001b[0;31m         \u001b[0mvalue\u001b[0m \u001b[0;34m=\u001b[0m \u001b[0msuper\u001b[0m\u001b[0;34m(\u001b[0m\u001b[0mFile\u001b[0m\u001b[0;34m,\u001b[0m \u001b[0mself\u001b[0m\u001b[0;34m)\u001b[0m\u001b[0;34m.\u001b[0m\u001b[0mvalidate\u001b[0m\u001b[0;34m(\u001b[0m\u001b[0mobjekt\u001b[0m\u001b[0;34m,\u001b[0m \u001b[0mname\u001b[0m\u001b[0;34m,\u001b[0m \u001b[0mvalue\u001b[0m\u001b[0;34m,\u001b[0m \u001b[0mreturn_pathlike\u001b[0m\u001b[0;34m=\u001b[0m\u001b[0;32mTrue\u001b[0m\u001b[0;34m)\u001b[0m\u001b[0;34m\u001b[0m\u001b[0;34m\u001b[0m\u001b[0m\n\u001b[0m\u001b[1;32m    325\u001b[0m         \u001b[0;32mif\u001b[0m \u001b[0mself\u001b[0m\u001b[0;34m.\u001b[0m\u001b[0m_exts\u001b[0m\u001b[0;34m:\u001b[0m\u001b[0;34m\u001b[0m\u001b[0;34m\u001b[0m\u001b[0m\n\u001b[1;32m    326\u001b[0m             \u001b[0mfname\u001b[0m \u001b[0;34m=\u001b[0m \u001b[0mvalue\u001b[0m\u001b[0;34m.\u001b[0m\u001b[0mname\u001b[0m\u001b[0;34m\u001b[0m\u001b[0;34m\u001b[0m\u001b[0m\n",
      "\u001b[0;32m~/PycharmProjects/Networks_plasticity/venv/lib/python3.7/site-packages/nipype/interfaces/base/traits_extension.py\u001b[0m in \u001b[0;36mvalidate\u001b[0;34m(self, objekt, name, value, return_pathlike)\u001b[0m\n\u001b[1;32m    127\u001b[0m         \u001b[0;32mif\u001b[0m \u001b[0mself\u001b[0m\u001b[0;34m.\u001b[0m\u001b[0mexists\u001b[0m\u001b[0;34m:\u001b[0m\u001b[0;34m\u001b[0m\u001b[0;34m\u001b[0m\u001b[0m\n\u001b[1;32m    128\u001b[0m             \u001b[0;32mif\u001b[0m \u001b[0;32mnot\u001b[0m \u001b[0mvalue\u001b[0m\u001b[0;34m.\u001b[0m\u001b[0mexists\u001b[0m\u001b[0;34m(\u001b[0m\u001b[0;34m)\u001b[0m\u001b[0;34m:\u001b[0m\u001b[0;34m\u001b[0m\u001b[0;34m\u001b[0m\u001b[0m\n\u001b[0;32m--> 129\u001b[0;31m                 \u001b[0mself\u001b[0m\u001b[0;34m.\u001b[0m\u001b[0merror\u001b[0m\u001b[0;34m(\u001b[0m\u001b[0mobjekt\u001b[0m\u001b[0;34m,\u001b[0m \u001b[0mname\u001b[0m\u001b[0;34m,\u001b[0m \u001b[0mstr\u001b[0m\u001b[0;34m(\u001b[0m\u001b[0mvalue\u001b[0m\u001b[0;34m)\u001b[0m\u001b[0;34m)\u001b[0m\u001b[0;34m\u001b[0m\u001b[0;34m\u001b[0m\u001b[0m\n\u001b[0m\u001b[1;32m    130\u001b[0m \u001b[0;34m\u001b[0m\u001b[0m\n\u001b[1;32m    131\u001b[0m             \u001b[0;32mif\u001b[0m \u001b[0mself\u001b[0m\u001b[0;34m.\u001b[0m\u001b[0m_is_file\u001b[0m \u001b[0;32mand\u001b[0m \u001b[0;32mnot\u001b[0m \u001b[0mvalue\u001b[0m\u001b[0;34m.\u001b[0m\u001b[0mis_file\u001b[0m\u001b[0;34m(\u001b[0m\u001b[0;34m)\u001b[0m\u001b[0;34m:\u001b[0m\u001b[0;34m\u001b[0m\u001b[0;34m\u001b[0m\u001b[0m\n",
      "\u001b[0;32m~/PycharmProjects/Networks_plasticity/venv/lib/python3.7/site-packages/traits/trait_handlers.py\u001b[0m in \u001b[0;36merror\u001b[0;34m(self, object, name, value)\u001b[0m\n\u001b[1;32m    234\u001b[0m         \"\"\"\n\u001b[1;32m    235\u001b[0m         raise TraitError(\n\u001b[0;32m--> 236\u001b[0;31m             \u001b[0mobject\u001b[0m\u001b[0;34m,\u001b[0m \u001b[0mname\u001b[0m\u001b[0;34m,\u001b[0m \u001b[0mself\u001b[0m\u001b[0;34m.\u001b[0m\u001b[0mfull_info\u001b[0m\u001b[0;34m(\u001b[0m\u001b[0mobject\u001b[0m\u001b[0;34m,\u001b[0m \u001b[0mname\u001b[0m\u001b[0;34m,\u001b[0m \u001b[0mvalue\u001b[0m\u001b[0;34m)\u001b[0m\u001b[0;34m,\u001b[0m \u001b[0mvalue\u001b[0m\u001b[0;34m\u001b[0m\u001b[0;34m\u001b[0m\u001b[0m\n\u001b[0m\u001b[1;32m    237\u001b[0m         )\n\u001b[1;32m    238\u001b[0m \u001b[0;34m\u001b[0m\u001b[0m\n",
      "\u001b[0;31mTraitError\u001b[0m: The 'act_file' trait of a TractographyInputSpec instance must be a pathlike object or string representing an existing file, but a value of '/home/gal/Networks_Dynamics/Derivatives/Mrtrix_prep/sub-09/5TT.mif' <class 'str'> was specified."
     ],
     "ename": "TraitError",
     "evalue": "The 'act_file' trait of a TractographyInputSpec instance must be a pathlike object or string representing an existing file, but a value of '/home/gal/Networks_Dynamics/Derivatives/Mrtrix_prep/sub-09/5TT.mif' <class 'str'> was specified.",
     "output_type": "error"
    }
   ],
   "source": [
    "from Networks_plasticity import Preprocessing\n",
    "\n",
    "prep = Preprocessing.Mrtrix_prep(mother_dir=\"/home/gal/Networks_Dynamics\")\n",
    "prep.run()\n",
    "\n",
    "from Networks_plasticity import Tracts_processing\n",
    "\n",
    "tracts = Tracts_processing.Generate_Tracts_with_mrtrix3(mother_dir=\"/home/gal/Networks_Dynamics\")\n",
    "tracts.run()\n"
   ],
   "metadata": {
    "collapsed": false,
    "pycharm": {
     "name": "#%%\n",
     "is_executing": false
    }
   }
  }
 ],
 "metadata": {
  "kernelspec": {
   "display_name": "Python 3",
   "language": "python",
   "name": "python3"
  },
  "language_info": {
   "codemirror_mode": {
    "name": "ipython",
    "version": 3
   },
   "file_extension": ".py",
   "mimetype": "text/x-python",
   "name": "python",
   "nbconvert_exporter": "python",
   "pygments_lexer": "ipython3",
   "version": "3.7.5"
  },
  "pycharm": {
   "stem_cell": {
    "cell_type": "raw",
    "source": [],
    "metadata": {
     "collapsed": false
    }
   }
  }
 },
 "nbformat": 4,
 "nbformat_minor": 1
}