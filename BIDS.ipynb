{
    "cells": [
        {
            "cell_type": "code",
            "execution_count": 17,
            "metadata": {},
            "outputs": [
                {
                    "name": "stdout",
                    "output_type": "stream",
                    "text": [
                        "\u001b[33mWARNING: The directory '/home/gal/.cache/pip' or its parent directory is not owned or is not writable by the current user. The cache has been disabled. Check the permissions and owner of that directory. If executing pip with sudo, you may want sudo's -H flag.\u001b[0m\n",
                        "Requirement already satisfied: xlrd in ./venv/lib/python3.7/site-packages (1.2.0)\n",
                    ],
                }
            ],
            "source": [
                "import glob,os, pandas as pd\n",
                "dirs = glob.glob('/home/gal/Brain_Networks/sourcedata/*')\n",
                "subjects = [subj.split(os.sep)[-1] for subj in dirs]\n",
                "subjects.sort()\n",
                "proj_dir = r'/home/gal/Brain_Networks/'\n",
                "TEMPLATE_PARTICIPANTS = r'/media/gal/New Volume/FSL_pipeline/bids-starter-kit-master/templates/participants.tsv'\n",
                "MRICRO_PATH = r'/home/gal/Utillitis/MRIcroGL/Resources'\n",
                'ds_description = r"/home/gal/dataset_description.json"\n',
                'CRF_FILE = os.path.abspath("/home/gal/CRF.xlsx")\n',
                "os.path.isfile(CRF_FILE)\n",
                "df = pd.read_excel(CRF_FILE, header=0)",
            ],
        },
        {
            "cell_type": "code",
            "execution_count": 9,
            "metadata": {},
            "outputs": [],
            "source": [
                "def create_tree(mother_dir:str):\n",
                "    dirs = ['Niftis','Derivatives']\n",
                "    for branch in dirs:\n",
                "        if not os.path.isdir(f'{mother_dir}/{branch}'):\n",
                "            os.makedirs(f'{mother_dir}/{branch}')\n",
                "    \n",
                "create_tree('/home/gal/Brain_Networks')\n",
                "        \n",
                "        ",
            ],
        },
        {
            "cell_type": "code",
            "execution_count": 22,
            "metadata": {},
            "outputs": [],
            "source": [
                "def set_directories(subnum):\n",
                "    newdir = f'{proj_dir}/Niftis/{subnum}/anat'\n",
                "    if not os.path.isdir(newdir):\n",
                "        os.makedirs(newdir)\n",
                "        os.makedirs(newdir.replace('anat','DTI'))\n",
                "set_directories(subnum)",
            ],
        },
        {
            "cell_type": "code",
            "execution_count": null,
            "outputs": [],
            "source": [
                "subnum = 'sub-01'\n",
                "files = glob.glob(f'{os.path.dirname(proj_dir)}/sourcedata/{subnum}/*ep2d*')\n",
                "files",
            ],
            "metadata": {"collapsed": false, "pycharm": {"name": "#%%\n"}},
        },
        {
            "cell_type": "code",
            "execution_count": null,
            "outputs": [],
            "source": [
                "for f in files:\n",
                "    new_nii = f'{proj_dir}/Niftis/{subnum}/DTI'\n",
                "    if os.listdir(new_nii):\n",
                "        break\n",
                "    n_subject = subnum.split('-')[-1]\n",
                '    cmd = "{0}/dcm2niix -o {1} -f {2}_%f_%p {3}".format(\n',
                "        MRICRO_PATH, new_nii, n_subject, f\n",
                "    )",
            ],
            "metadata": {"collapsed": false, "pycharm": {"name": "#%%\n"}},
        },
        {
            "cell_type": "code",
            "execution_count": null,
            "outputs": [],
            "source": ["os.system(cmd)"],
            "metadata": {"collapsed": false, "pycharm": {"name": "#%%\n"}},
        },
        {
            "cell_type": "code",
            "execution_count": 18,
            "metadata": {},
            "outputs": [
                {
                    "data": {
                        "text/plain": [
                            "['/home/gal/Brain_Networks/sourcedata/sub-01/66_ep2d_d15.5D60_MB3_PA',\n",
                            " '/home/gal/Brain_Networks/sourcedata/sub-01/65_ep2d_d15.5D60_MB3_AP']",
                        ]
                    },
                    "execution_count": 18,
                    "metadata": {},
                    "output_type": "execute_result",
                }
            ],
            "source": ["os.system(cmd)"],
        },
        {
            "cell_type": "code",
            "execution_count": 28,
            "metadata": {},
            "outputs": [
                {
                    "ename": "FileNotFoundError",
                    "evalue": "[Errno 2] No such file or directory: '/home/gal/Brain_Networks//Niftis/sub-01/DTI'",
                    "output_type": "error",
                    "traceback": [
                        "\u001b[0;31m---------------------------------------------------------------------------\u001b[0m",
                        "\u001b[0;31mFileNotFoundError\u001b[0m                         Traceback (most recent call last)",
                        "\u001b[0;32m<ipython-input-28-ac228cedbca7>\u001b[0m in \u001b[0;36m<module>\u001b[0;34m\u001b[0m\n\u001b[1;32m      1\u001b[0m \u001b[0;32mfor\u001b[0m \u001b[0mf\u001b[0m \u001b[0;32min\u001b[0m \u001b[0mfiles\u001b[0m\u001b[0;34m:\u001b[0m\u001b[0;34m\u001b[0m\u001b[0;34m\u001b[0m\u001b[0m\n\u001b[1;32m      2\u001b[0m     \u001b[0mnew_nii\u001b[0m \u001b[0;34m=\u001b[0m \u001b[0;34mf'{proj_dir}/Niftis/{subnum}/DTI'\u001b[0m\u001b[0;34m\u001b[0m\u001b[0;34m\u001b[0m\u001b[0m\n\u001b[0;32m----> 3\u001b[0;31m     \u001b[0;32mif\u001b[0m \u001b[0mos\u001b[0m\u001b[0;34m.\u001b[0m\u001b[0mlistdir\u001b[0m\u001b[0;34m(\u001b[0m\u001b[0mnew_nii\u001b[0m\u001b[0;34m)\u001b[0m\u001b[0;34m:\u001b[0m\u001b[0;34m\u001b[0m\u001b[0;34m\u001b[0m\u001b[0m\n\u001b[0m\u001b[1;32m      4\u001b[0m         \u001b[0;32mbreak\u001b[0m\u001b[0;34m\u001b[0m\u001b[0;34m\u001b[0m\u001b[0m\n\u001b[1;32m      5\u001b[0m     \u001b[0mn_subject\u001b[0m \u001b[0;34m=\u001b[0m \u001b[0msubnum\u001b[0m\u001b[0;34m.\u001b[0m\u001b[0msplit\u001b[0m\u001b[0;34m(\u001b[0m\u001b[0;34m'-'\u001b[0m\u001b[0;34m)\u001b[0m\u001b[0;34m[\u001b[0m\u001b[0;34m-\u001b[0m\u001b[0;36m1\u001b[0m\u001b[0;34m]\u001b[0m\u001b[0;34m\u001b[0m\u001b[0;34m\u001b[0m\u001b[0m\n",
                        "\u001b[0;31mFileNotFoundError\u001b[0m: [Errno 2] No such file or directory: '/home/gal/Brain_Networks//Niftis/sub-01/DTI'",
                    ],
                }
            ],
            "source": [
                "for f in files:\n",
                "    new_nii = f'{proj_dir}/Niftis/{subnum}/DTI'\n",
                "    if os.listdir(new_nii):\n",
                "        break\n",
                "    n_subject = subnum.split('-')[-1]\n",
                '    cmd = "{0}/dcm2niix -o {1} -f {2}_%f_%p {3}".format(\n',
                "        MRICRO_PATH, new_nii, n_subject, f\n",
                "    )",
            ],
        },
        {
            "cell_type": "code",
            "execution_count": 27,
            "metadata": {},
            "outputs": [
                {
                    "data": {"text/plain": ["0"]},
                    "execution_count": 27,
                    "metadata": {},
                    "output_type": "execute_result",
                }
            ],
            "source": ["os.system(cmd)"],
        },
    ],
    "metadata": {
        "kernelspec": {
            "display_name": "Python 3",
            "language": "python",
            "name": "python3",
        },
        "language_info": {
            "codemirror_mode": {"name": "ipython", "version": 3},
            "file_extension": ".py",
            "mimetype": "text/x-python",
            "name": "python",
            "nbconvert_exporter": "python",
            "pygments_lexer": "ipython3",
            "version": "3.7.5",
        },
        "pycharm": {
            "stem_cell": {
                "cell_type": "raw",
                "source": [],
                "metadata": {"collapsed": false},
            }
        },
    },
    "nbformat": 4,
    "nbformat_minor": 1,
}
